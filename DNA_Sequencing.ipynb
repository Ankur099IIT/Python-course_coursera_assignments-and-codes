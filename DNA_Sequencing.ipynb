{
  "nbformat": 4,
  "nbformat_minor": 0,
  "metadata": {
    "colab": {
      "name": "DNA Sequencing.ipynb",
      "provenance": [],
      "collapsed_sections": [],
      "authorship_tag": "ABX9TyPitC+L/9Rjwvk00y7/c8zW",
      "include_colab_link": true
    },
    "kernelspec": {
      "name": "python3",
      "display_name": "Python 3"
    },
    "language_info": {
      "name": "python"
    }
  },
  "cells": [
    {
      "cell_type": "markdown",
      "metadata": {
        "id": "view-in-github",
        "colab_type": "text"
      },
      "source": [
        "<a href=\"https://colab.research.google.com/github/Ankur099IIT/Python-course_coursera_assignments-and-codes/blob/main/DNA_Sequencing.ipynb\" target=\"_parent\"><img src=\"https://colab.research.google.com/assets/colab-badge.svg\" alt=\"Open In Colab\"/></a>"
      ]
    },
    {
      "cell_type": "code",
      "execution_count": null,
      "metadata": {
        "id": "AZsOtf4fTJRv"
      },
      "outputs": [],
      "source": [
        "def get_length(dna):\n",
        "    \"\"\" (str) -> int\n",
        "\n",
        "    Return the length of the DNA sequence dna.\n",
        "\n",
        "    >>> get_length('ATCGAT')\n",
        "    6\n",
        "    >>> get_length('ATCG')\n",
        "    4\n",
        "    \"\"\"\n",
        "    return len(dna)\n",
        "\n",
        "\n",
        "def is_longer(dna1, dna2):\n",
        "    \"\"\" (str, str) -> bool\n",
        "\n",
        "    Return True if and only if DNA sequence dna1 is longer than DNA sequence\n",
        "    dna2.\n",
        "\n",
        "    >>> is_longer('ATCG', 'AT')\n",
        "    True\n",
        "    >>> is_longer('ATCG', 'ATCGGA')\n",
        "    False\n",
        "    \"\"\"\n",
        "    return len(dna1) > len(dna2)\n",
        "\n",
        "\n",
        "def count_nucleotides(dna, nucleotide):\n",
        "    \"\"\" (str, str) -> int\n",
        "\n",
        "    Return the number of occurrences of nucleotide in the DNA sequence dna.\n",
        "\n",
        "    >>> count_nucleotides('ATCGGC', 'G')\n",
        "    2\n",
        "    >>> count_nucleotides('ATCTA', 'G')\n",
        "    0\n",
        "    \"\"\"\n",
        "    return dna.count(nucleotide)\n",
        "\n",
        "\n",
        "def contains_sequence(dna1, dna2):\n",
        "    \"\"\" (str, str) -> bool\n",
        "\n",
        "    Return True if and only if DNA sequence dna2 occurs in the DNA sequence\n",
        "    dna1.\n",
        "\n",
        "    >>> contains_sequence('ATCGGC', 'GG')\n",
        "    True\n",
        "    >>> contains_sequence('ATCGGC', 'GT')\n",
        "    False\n",
        "\n",
        "    \"\"\"\n",
        "    return dna2 in dna1"
      ]
    },
    {
      "cell_type": "code",
      "source": [
        "def is_valid_sequence(dna):\n",
        "\n",
        "  list = []\n",
        "  for char in dna:\n",
        "    if char in 'ATGC':\n",
        "      result = True\n",
        "    else:\n",
        "      result = False\n",
        "    list.append(result)\n",
        "\n",
        "  if False in list:\n",
        "    return False\n",
        "  else:\n",
        "    return True\n"
      ],
      "metadata": {
        "id": "x3w1i8TEaaJD"
      },
      "execution_count": null,
      "outputs": []
    },
    {
      "cell_type": "code",
      "source": [
        "def insert_sequence(DNA1, DNA2, index ):\n",
        "  return DNA1[:index] + DNA2 + DNA1[index:]"
      ],
      "metadata": {
        "id": "Cfdk6AaVfuw7"
      },
      "execution_count": null,
      "outputs": []
    },
    {
      "cell_type": "code",
      "source": [
        "def get_complement(nucleotide):\n",
        "  if nucleotide== 'A':\n",
        "    return 'T'\n",
        "  elif nucleotide== 'C':\n",
        "    return 'G'\n",
        "  elif nucleotide== 'G':\n",
        "    return 'C'\n",
        "  elif nucleotide== 'T':\n",
        "    return 'A'\n",
        "  else:\n",
        "    print('This is not a nucleotide')\n"
      ],
      "metadata": {
        "id": "0oN68ZomgME4"
      },
      "execution_count": null,
      "outputs": []
    },
    {
      "cell_type": "code",
      "source": [
        "def get_complementary_sequence(DNA):\n",
        "  return DNA[::-1]"
      ],
      "metadata": {
        "id": "aD0NllvDhv6e"
      },
      "execution_count": null,
      "outputs": []
    },
    {
      "cell_type": "code",
      "source": [
        ""
      ],
      "metadata": {
        "id": "gLd0k1R1v9hH"
      },
      "execution_count": null,
      "outputs": []
    }
  ]
}